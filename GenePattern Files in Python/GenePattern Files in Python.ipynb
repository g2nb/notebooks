{
 "cells": [
  {
   "cell_type": "markdown",
   "metadata": {},
   "source": [
    "# Using GenePattern Files in Python\n",
    "\n",
    "This is a short tutorial on how to use GenePattern files in conjunction with common Python libraries, such as [csv](https://docs.python.org/2/library/csv.html), [numpy](http://www.numpy.org/), [pandas](http://pandas.pydata.org/) and [matplotlib](http://matplotlib.org/). It demonstrates how to load data from GenePattern into these libraries, and how to send data from these libraries back to GenePattern.\n",
    "\n",
    "This tutorial assumes that the reader is familiar with [GenePattern](http://genepattern.org) and its basic associated concepts, such as modules, jobs and result files. A simple GenePattern tutorial is [available here](http://www.broadinstitute.org/cancer/software/genepattern/tutorial). It also assumes that the reader is familiar with the basics of the [GenePattern Python library](http://www.broadinstitute.org/cancer/software/genepattern/programmers-guide#_Using_GenePattern_from_Python). If you are not already familiar with this library, it is recommended that you first complete the [GenePattern Python Tutorial](http://www.broadinstitute.org/cancer/software/genepattern/example-genepattern-notebooks).\n",
    "\n",
    "### Installation\n",
    "\n",
    "If you're not running this notebook on the [GenePattern Notebook Repository](https://notebook.genepattern.org), several of the libraries in this tutorial may need to be installed in order to use their functionality. Installation is typically done through PIP. All of the relevant libraries can be installed by executing the line below on the command line, with the necessary permissions. You may need to restart the IPython kernel before the libraries become available after installation.\n",
    "\n",
    "> *pip install numpy pandas matplotlib genepattern-python*"
   ]
  },
  {
   "cell_type": "markdown",
   "metadata": {},
   "source": [
    "## GPFile Objects\n",
    "\n",
    "Files in the GenePattern Python library are represented by GPFile objects. These objects contain an URL to the file on the GenePattern server and several methods for obtaining the contents of the file.\n",
    "\n",
    "GPFile objects can either be created directly or obtained from a GenePattern job, through the GPJob object. An example of directly instantiating a GPFile object to represent a remote file is below. \n",
    "\n",
    "An example of obtaining a GPFile object representing a GenePattern job's output is also given, but is commented out, as this tutorial does not cover launching GenePattern jobs."
   ]
  },
  {
   "cell_type": "code",
   "execution_count": null,
   "metadata": {
    "collapsed": true
   },
   "outputs": [],
   "source": [
    "import gp\n",
    "\n",
    "# Create a GenePattern server proxy instance\n",
    "gpserver = gp.GPServer('https://cloud.genepattern.org/gp','myusername', 'mypassword')\n",
    "\n",
    "# Directly create the GPFile object\n",
    "gpfile = gp.GPFile(gpserver, 'https://datasets.genepattern.org/data/all_aml/all_aml_test.preprocessed.gct')\n",
    "\n",
    "# The code below demonstrates how to obtain a GPFile from a GPJob object.\n",
    "# It asumes the user already has a GPJob launched and represented in the gpjob variable.\n",
    "\n",
    "# This returns a list of all output files as GPFiles.\n",
    "# output_list = gpjob.get_output_files()  \n",
    "\n",
    "# The list can be iterated over or a single member obtained\n",
    "# gpfile = output_list[0]"
   ]
  },
  {
   "cell_type": "markdown",
   "metadata": {},
   "source": [
    "### Understanding Your File\n",
    "\n",
    "When doing any sort of file parsing in Python, it is important to understand the contents of the file that you are using. The file we will use with this tutorial is a GCT containing expression data for different leukemia samples.\n",
    "\n",
    "[Here is a link to a GCT file](https://datasets.genepattern.org/data/all_aml/all_aml_test.preprocessed.gct). Go ahead and click the link. It will open up in your browser.\n",
    "\n",
    "As you can see, the file consists of a couple lines with header information, followed by a tab-separated matrix of expression data. This will be important to keep in mind later in the tutorial, when we start loading the data using different libraries.\n",
    "\n",
    "More information on the GCT format is [available here](http://www.broadinstitute.org/cancer/software/genepattern/file-formats-guide#GCT)."
   ]
  },
  {
   "cell_type": "markdown",
   "metadata": {},
   "source": [
    "## GCT and ODF Parsers\n",
    "\n",
    "The GenePattern Python Library comes with built-in support for the GCT and ODF file formats. These are two of the most common formats used by GenePattern. While this tutorial does not use these parsers, in favor of doing things manually, we thought the parsers worth mentioning as they make working with GCT and ODF files particularly easy.\n",
    "\n",
    "To use one of these parsers, simply import the `gp.data` package and pass one of their constructors a GPFile object. The parser will do the rest, loading the contents of the file and importing it into a pandas Dataframe (see the pandas section below).\n",
    "\n",
    "Here is an example of how to load the `all_aml_test.preprocessed.gct` file using the GCT parser."
   ]
  },
  {
   "cell_type": "code",
   "execution_count": null,
   "metadata": {
    "collapsed": true
   },
   "outputs": [],
   "source": [
    "# Import the GCT and ODF parsers\n",
    "from gp.data import GCT, ODF\n",
    "\n",
    "# Load and parse the GCT file\n",
    "gpfile_parsed = GCT(gpfile)\n",
    "\n",
    "# Reference and return the resulting Dataframe\n",
    "gpfile_parsed.dataframe"
   ]
  },
  {
   "cell_type": "markdown",
   "metadata": {},
   "source": [
    "## Reading the File\n",
    "\n",
    "Every GPFile object has a read() method, which downloads the file and returns its contents as a string. As strings are handled differently, depending on whether you are using Python 2 or Python 3, we recommend explicitly reading the contents as unicode. This will ensure that the file can be easily used in either version of Python.\n",
    "\n",
    "An example of reading the contents of the file to a variable is given below."
   ]
  },
  {
   "cell_type": "code",
   "execution_count": null,
   "metadata": {
    "collapsed": true
   },
   "outputs": [],
   "source": [
    "# In Python 3 this will be unicode by default\n",
    "raw_txt = gpfile.read()"
   ]
  },
  {
   "cell_type": "markdown",
   "metadata": {},
   "source": [
    "## GenePattern File IO\n",
    "\n",
    "You now have the contents of the file represented as a string. With this you can read the data, parse the file or, with the right knowhow, perform analyses.\n",
    "\n",
    "Many common libraries, however, expect data to come in the form of a Python IO object, rather than a raw string. Thankfully, the data can be used in this way simply by instantiating a StringIO object. The code below shows how to do this."
   ]
  },
  {
   "cell_type": "code",
   "execution_count": null,
   "metadata": {
    "collapsed": true
   },
   "outputs": [],
   "source": [
    "from io import StringIO\n",
    "\n",
    "# Wrap the data in a StringIO object\n",
    "data_io = StringIO(raw_txt)"
   ]
  },
  {
   "cell_type": "markdown",
   "metadata": {},
   "source": [
    "**Note:** The GPFile object also possesses the open() method. This method directly returns an IO object for the remote file, bypassing the need to first read the file and then wrap its contents with a StringIO. Unfortunately, due to the way that Python handles strings, this results in different behavior between Python 2 and Python 3. If you use this method and run into errors, we recommend trying the above method instead."
   ]
  },
  {
   "cell_type": "markdown",
   "metadata": {},
   "source": [
    "## Using GenePattern with the csv module\n",
    "\n",
    "One of the simplest ways to parse the data is using Python's built-in [csv](https://docs.python.org/2/library/csv.html) module. This module provides a variety of methods for parsing text into matrices of raw values.\n",
    "\n",
    "The most important method in this library is the reader() method. It will parse each line into a list of values and then return an object from which each line can be read in order. This can either be iterated over or cast as a list.\n",
    "\n",
    "An example of this is shown below."
   ]
  },
  {
   "cell_type": "code",
   "execution_count": null,
   "metadata": {
    "collapsed": true
   },
   "outputs": [],
   "source": [
    "import csv\n",
    "\n",
    "# Load the data into a reader object.\n",
    "# For a GCT file, the delimiter between columns is the tab character\n",
    "csv_reader = csv.reader(data_io, delimiter='\\t')\n",
    "\n",
    "# Cast the reader object as a list of lists\n",
    "data_matrix = list(csv_reader)\n",
    "\n",
    "# Print the fourth line of the file (the first sample)\n",
    "# Remember, the first line will be index 0.\n",
    "print(data_matrix[3])"
   ]
  },
  {
   "cell_type": "markdown",
   "metadata": {},
   "source": [
    "Note that the first two columns in this matrix will be the sample name and description. These correspond to the first two entries in the list printed above.\n",
    "\n",
    "Also note that the csv library parses all values as strings, including of the numerical values in the list. Before analyses can be performed with these values, they will need to be parsed as numbers. This is a fundamental limitation of the csv library, and one other libraries avoid."
   ]
  },
  {
   "cell_type": "markdown",
   "metadata": {},
   "source": [
    "## Using GenePattern with numpy\n",
    "\n",
    "The popular [numpy](http://www.numpy.org/) package provides a variety of tools useful for scientific computing. Among these tools are a method to quickly parse files into matrices of data. This method is named [genfromtxt()](http://docs.scipy.org/doc/numpy-1.10.0/reference/generated/numpy.genfromtxt.html).\n",
    "\n",
    "Below is an example of how to load the GCT file into a numpy matrix, using the IO object we created earlier. This method call requires that a number of parameters are set. This tailors the parsing of the data to fit the GCT format."
   ]
  },
  {
   "cell_type": "code",
   "execution_count": null,
   "metadata": {
    "collapsed": true
   },
   "outputs": [],
   "source": [
    "import numpy\n",
    "\n",
    "# Wrap the data in a clean StringIO object\n",
    "data_io = StringIO(raw_txt)\n",
    "\n",
    "# This reads the file and generates a matrix of values.\n",
    "# The parameters are as follows:\n",
    "#\n",
    "#     data_io:     This is a StringIO object wrapping the raw data\n",
    "#     delimiter:   GCT files are tab-seperated\n",
    "#     dtype:       Determine the type of each column based on its contents\n",
    "#     comments:    GCT files contain no comment lines\n",
    "\n",
    "data_matrix = numpy.genfromtxt(data_io, delimiter='\\t', skip_header=2, dtype=None, comments=None)"
   ]
  },
  {
   "cell_type": "code",
   "execution_count": null,
   "metadata": {
    "collapsed": true
   },
   "outputs": [],
   "source": [
    "# Print the column names of the matrix to demonstrate\n",
    "print(data_matrix[3])"
   ]
  },
  {
   "cell_type": "markdown",
   "metadata": {},
   "source": [
    "**Note:** You will notice that this method of parsing is able to recognize when a column's value is either a string or a number. This allows you to perform analyses on the data without first having to convert each numerical value to the appropriate type."
   ]
  },
  {
   "cell_type": "markdown",
   "metadata": {},
   "source": [
    "## Using GenePattern with pandas\n",
    "\n",
    "[pandas](http://pandas.pydata.org/) is a popular data analysis library that provides a variety of tools and data structures for use in scientific computing. Additionally, pandas comes with a number of Jupyter integrations, making it easy to use from within a Jupyter notebook.\n",
    "\n",
    "Among the tools provided by pandas is the *read_csv()* method. This method can be used to easily read a GenePattern file, and displays the results as a table. Example code demonstrating this is shown below."
   ]
  },
  {
   "cell_type": "code",
   "execution_count": null,
   "metadata": {
    "collapsed": true
   },
   "outputs": [],
   "source": [
    "import pandas\n",
    "\n",
    "# Reset the state of the IO object.\n",
    "# This prepares it for reading again.\n",
    "data_io = StringIO(raw_txt)\n",
    "\n",
    "# This reads the file and generates data structure representing the values.\n",
    "# If a code cell returns this value, it will be displayed in the notebook as a table.\n",
    "# The parameters are as follows:\n",
    "#\n",
    "#     delimiter:   GCT files are tab-separated\n",
    "#     header:      This line contains the column headers\n",
    "\n",
    "pandas.read_csv(data_io, delimiter='\\t', header=2)"
   ]
  },
  {
   "cell_type": "markdown",
   "metadata": {},
   "source": [
    "**Note:** The pandas library requires certain versions of the numpy library in order to run. If you are experiencing errors when attempting to import pandas, you may have an incompatible version of numpy installed. This is particularly common on Mac OSX, as many Macs come with an older version of the numpy library. To fix this problem you will first need to remove the older version of the library from your Python path, and then install the newer version through PIP."
   ]
  },
  {
   "cell_type": "markdown",
   "metadata": {},
   "source": [
    "## Using GenePattern with matplotlib\n",
    "\n",
    "[matplotlib](http://matplotlib.org/) is a popular plotting and graphing library. It comes with a variety of Jupyter integrations. These features are ideal for visualizing the contents of GenePattern files in ways that supplement GenePattern's native visualizers.\n",
    "\n",
    "By default matplotlib displays its visualizations a separate Python window. This may or may not work for you, depending on whether you are running Jupyter locally. When working with matplotlib, it is good to tell the notebook to display all matplotlib visualizations inline. The magic for this is shown below."
   ]
  },
  {
   "cell_type": "code",
   "execution_count": null,
   "metadata": {
    "collapsed": true
   },
   "outputs": [],
   "source": [
    "%matplotlib inline"
   ]
  },
  {
   "cell_type": "markdown",
   "metadata": {},
   "source": [
    "The matplotlib library comes with far more display options than can be covered in this tutorial. Furthermore, doing so would be outside its scope. Instead, below we present a piece of code that demonstrates how to use pandas and matplotlib to display the GenePattern file as a heatmap. Note that for ease of demonstration and readability this code displays only a small portion of the GenePattern file."
   ]
  },
  {
   "cell_type": "code",
   "execution_count": null,
   "metadata": {
    "collapsed": true
   },
   "outputs": [],
   "source": [
    "import matplotlib.cbook as cbook\n",
    "import matplotlib.pyplot as plt\n",
    "import pylab\n",
    "\n",
    "# Reset the state of the IO object.\n",
    "# This prepares it for reading again.\n",
    "data_io = StringIO(raw_txt)\n",
    "\n",
    "# Parse the file using pandas's read_csv() method, \n",
    "# as was used in the previous section\n",
    "table = pandas.read_csv(data_io, delimiter='\\t', header=2)\n",
    "\n",
    "# Tell matplotlib to generate a 15 in x 10 in image\n",
    "pylab.rcParams['figure.figsize'] = 15, 10\n",
    "\n",
    "# For ease of demonstration, display only a portion of the GenePattern file\n",
    "submatrix = table.iloc[0:10,2:10].values\n",
    "\n",
    "# Note that if we were doing real science in this demonstration, \n",
    "# we would normalize the values in the matrix somewhere around this point\n",
    "\n",
    "# Obtain references to the figure and axis parts of the heatmap\n",
    "fig, ax = plt.subplots()\n",
    "\n",
    "# Set the color scheme used by the heatmap\n",
    "heatmap = ax.pcolor(submatrix, cmap=plt.cm.bwr)\n",
    "\n",
    "# Put the major ticks at the middle of each cell\n",
    "ax.set_xticks(numpy.arange(submatrix.shape[1])+0.5, minor=False)\n",
    "ax.set_yticks(numpy.arange(submatrix.shape[0])+0.5, minor=False)\n",
    "\n",
    "# Use a more natural, table-like display\n",
    "ax.invert_yaxis()\n",
    "ax.xaxis.tick_top()\n",
    "\n",
    "# Extract the column and row labels from the file\n",
    "column_labels = [item for item in table.columns.values[2:]]\n",
    "row_labels = list(table.columns[2:13])\n",
    "\n",
    "# Set the table and row labels for display\n",
    "ax.set_xticklabels(column_labels, minor=False)\n",
    "ax.set_yticklabels(row_labels, minor=False)\n",
    "\n",
    "# Display the heatmap\n",
    "plt.show()"
   ]
  }
 ],
 "metadata": {
  "anaconda-cloud": {},
  "kernelspec": {
   "display_name": "Python 3.6",
   "language": "python",
   "name": "python3.6"
  },
  "language_info": {
   "codemirror_mode": {
    "name": "ipython",
    "version": 3
   },
   "file_extension": ".py",
   "mimetype": "text/x-python",
   "name": "python",
   "nbconvert_exporter": "python",
   "pygments_lexer": "ipython3",
   "version": "3.6.11"
  },
  "toc": {
   "base_numbering": 1,
   "nav_menu": {},
   "number_sections": false,
   "sideBar": true,
   "skip_h1_title": false,
   "title_cell": "Table of Contents",
   "title_sidebar": "Contents",
   "toc_cell": false,
   "toc_position": {},
   "toc_section_display": true,
   "toc_window_display": false
  }
 },
 "nbformat": 4,
 "nbformat_minor": 1
}
