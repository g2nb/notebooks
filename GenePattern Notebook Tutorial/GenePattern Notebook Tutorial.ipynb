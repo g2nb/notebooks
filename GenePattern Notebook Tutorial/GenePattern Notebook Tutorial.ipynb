{
 "cells": [
  {
   "cell_type": "markdown",
   "metadata": {},
   "source": [
    "# GenePattern Notebook Tutorial\n"
   ]
  },
  {
   "cell_type": "markdown",
   "metadata": {},
   "source": [
    "## Introduction"
   ]
  },
  {
   "cell_type": "markdown",
   "metadata": {},
   "source": [
    "### GenePattern and Jupyter Notebook\n",
    "\n",
    "<a href=\"http://genepattern.org\"><img src=\"https://notebook.genepattern.org/static/images/genepattern.png\" width=50px style=\"float: left; margin: 5px;vertical-align:middle\"></a><p style=\"vertical-align:middle\">[**GenePattern**](https://genepattern.org) provides hundreds of analytical tools for the analysis of gene expression (RNA-seq and microarray), sequence variation and copy number, proteomic, flow cytometry, and network analysis. These tools are all available through a Web interface with no programming experience required.</p>\n",
    "<br>\n",
    "<a href=\"https://jupyter.org\"><img src=\"https://notebook.genepattern.org/static/images/jupyter.png\" width=50px style=\"float: left; margin: 5px;\"></a><p>[**Jupyter Notebook**](https://jupyter.org) is a web application that allows you to create and share documents that contain live code, equations, visualizations, and narrative text.</p>"
   ]
  },
  {
   "cell_type": "markdown",
   "metadata": {},
   "source": [
    "### What is GenePattern Notebook?\n",
    "\n",
    "The [**GenePattern Notebook**](http://genepattern-notebook.org) environment integrates GenePattern's analysis platform with the Jupyter Notebook system, allowing researchers to create documents that interleave formatted text, graphics and other multimedia, executable code, and GenePattern analyses, creating a single \"research narrative\" that puts scientific discussion and analyses in the same place. This tutorial will familiarize you with some of its most important features."
   ]
  },
  {
   "cell_type": "markdown",
   "metadata": {},
   "source": [
    "<div class=\"alert alert-info\">\n",
    "<p class=\"lead\"> Instructions <i class=\"fa fa-info-circle\"></i></p>\n",
    "All instructions for you to follow will appear in a blue panel like this one.\n",
    "</div>"
   ]
  },
  {
   "cell_type": "markdown",
   "metadata": {},
   "source": [
    "### GenePattern Notebook Introduction Video\n",
    "\n",
    "<p>Below is a brief video introduction to the GenePattern Notebook Environment. This video introduces many of the basic concepts and features provided by the tool. If you would prefer a more &quot;hands on&quot; introduction, scroll down and follow the subsequent interactive tutorial.</p>\n",
    "\n"
   ]
  },
  {
   "cell_type": "markdown",
   "metadata": {},
   "source": [
    "<div class=\"alert alert-info\">\n",
    "<p class=\"lead\"> Instructions <i class=\"fa fa-info-circle\"></i></p>\n",
    "1. Press the Run button to load the video<br>\n",
    "2. Press the Play button in the middle of the video to start watching\n",
    "</div>"
   ]
  },
  {
   "cell_type": "code",
   "execution_count": 3,
   "metadata": {
    "nbtools": {
     "description": "Press Run to load the video",
     "name": "GenePattern Notebook Introduction Video",
     "origin": "Notebook",
     "param_values": {
      "none": "",
      "output_var": ""
     },
     "show_code": false,
     "type": "uibuilder"
    },
    "scrolled": false
   },
   "outputs": [
    {
     "data": {
      "application/vnd.jupyter.widget-view+json": {
       "model_id": "e808ce4b3f87473e95b78a0fb4570440",
       "version_major": 2,
       "version_minor": 0
      },
      "text/plain": [
       "UIBuilder(description='Press Run to load the video', function_import='nbtools.tool(id=\"GenePattern Notebook In…"
      ]
     },
     "metadata": {},
     "output_type": "display_data"
    }
   ],
   "source": [
    "from IPython.display import IFrame\n",
    "import genepattern\n",
    "\n",
    "def youtube():\n",
    "    display(IFrame('https://www.youtube.com/embed/8npzyGLpUHU', width=\"100%\", height=\"480\"))\n",
    "\n",
    "genepattern.GPUIBuilder(\n",
    "    youtube,\n",
    "    name='GenePattern Notebook Introduction Video',\n",
    "    description='Press Run to load the video',\n",
    "    parameters={\n",
    "        'output_var': {\n",
    "            'hide': True\n",
    "        }\n",
    "    })"
   ]
  },
  {
   "cell_type": "markdown",
   "metadata": {},
   "source": [
    "## Basic Features\n",
    "\n",
    "These are the most commonly used features in the GenePattern Notebook environment. They also form the building blocks for most advanced use cases."
   ]
  },
  {
   "cell_type": "markdown",
   "metadata": {},
   "source": [
    "### Notebook Cells\n",
    "\n",
    "All notebooks consist of some number of cells. These cells may contain text, images, tables, code or interactive widgets. Try clicking different sections of this notebook and will you notice the different cells as they are selected."
   ]
  },
  {
   "cell_type": "markdown",
   "metadata": {},
   "source": [
    "#### Inserting cells\n",
    "\n",
    "New cells can be inserted by clicking the Insert Cell button ( <i class=\"fa-plus fa\"></i> ) on the toolbar or by using the Insert menu at the top of the screen."
   ]
  },
  {
   "cell_type": "markdown",
   "metadata": {},
   "source": [
    "<div class=\"alert alert-info\">\n",
    "<p class=\"lead\"> Instructions <i class=\"fa fa-info-circle\"></i></p>\n",
    "1. Select this cell by clicking to the left of the text.<br>\n",
    "2. Click the Insert Cell button ( <i class=\"fa-plus fa\"></i> ) to add a new cell below this one.<br>\n",
    "</div>"
   ]
  },
  {
   "cell_type": "markdown",
   "metadata": {},
   "source": [
    "#### Executing cells\n",
    "\n",
    "Cells can be executed by clicking the Run Cell button ( <i class=\"fa-step-forward fa\"></i> ) on the toolbar or using the menu at the top of the screen to select *Cell > Run Cells*. Depending on the type of cell, when a cell executes it will run any code contained in the cell or render any HTML/markdown as formatted text."
   ]
  },
  {
   "cell_type": "markdown",
   "metadata": {},
   "source": [
    "<div class=\"alert alert-info\">\n",
    "<p class=\"lead\"> Instructions <i class=\"fa fa-info-circle\"></i></p>\n",
    "1. Select this cell by clicking to the left of the text.<br>\n",
    "2. Create a new cell below this one and type or paste <code> 3 + 7 </code> into the input box. <br>\n",
    "3. Click the Run Cell button or type Shift+Enter to execute the cell.\n",
    "</div>"
   ]
  },
  {
   "cell_type": "markdown",
   "metadata": {},
   "source": [
    "#### Removing cells\n",
    "\n",
    "Cells are removed by clicking the Cut Cell button ( <i class=\"fa-scissors fa\"></i> ) on the toolbar or using the menu at the top of the screen to select *Edit > Cut Cells*"
   ]
  },
  {
   "cell_type": "markdown",
   "metadata": {},
   "source": [
    "<div class=\"alert alert-info\">\n",
    "<p class=\"lead\"> Instructions <i class=\"fa fa-info-circle\"></i></p>\n",
    "1. Select the cell below containing \"THIS IS THE CELL TO BE REMOVED\"<br>\n",
    "2. Click on the Cut button ( <i class=\"fa-scissors fa\"></i> ) to remove the cell\n",
    "</div>"
   ]
  },
  {
   "cell_type": "markdown",
   "metadata": {},
   "source": [
    "<div class=\"alert alert-danger\">\n",
    "\n",
    "**THIS IS THE CELL TO BE REMOVED**\n",
    "\n",
    "</div>"
   ]
  },
  {
   "cell_type": "markdown",
   "metadata": {},
   "source": [
    "#### Changing cell type\n",
    "\n",
    "Every cell has a type. Cell types include code cells, markdown cells and GenePattern cells. Code cells contain code that can be executed. Markdown cells contain either markdown or HTML that is rendered when the cell is executed. GenePattern cells contain interactive widgets that allow you to access GenePattern's many analyses.\n",
    "\n",
    "To change cell type, select a cell and then use the dropdown menu on the toolbar above. Alternatively, you can use the menu at the top of the page to select *Cell > Cell Type*."
   ]
  },
  {
   "cell_type": "markdown",
   "metadata": {},
   "source": [
    "<div class=\"alert alert-info\">\n",
    "<p class=\"lead\"> Instructions <i class=\"fa fa-info-circle\"></i></p>  \n",
    "    \n",
    "1. Select the cell below.\n",
    "2. Change the cell type from Markdown to Code by selecting `Cell > Cell Type > Code` on the menu bar.\n",
    "</div>"
   ]
  },
  {
   "cell_type": "markdown",
   "metadata": {},
   "source": [
    "### Change the type of this cell\n",
    "print(\"This cell is meant to be of code type\")"
   ]
  },
  {
   "cell_type": "markdown",
   "metadata": {},
   "source": [
    "### GenePattern Cells\n",
    "\n",
    "The GenePattern Notebook environment provides a number of graphical widgets that make performing analyses easy, even for non-programming users. These widgets take the form of GenePattern Cells that allow a user to prepare analyses, launch jobs and visualize results.\n",
    "\n",
    "To insert a GenePattern Cell, insert a new cell, then select the cell and then change the cell type to GenePattern either by using the Cell > Cell Type > GenePattern menu or by going to the dropdown menu in the notebook toolbar and selecting GenePattern from the list of options."
   ]
  },
  {
   "cell_type": "markdown",
   "metadata": {},
   "source": [
    "<div class=\"alert alert-info\">\n",
    "<p class=\"lead\"> Instructions <i class=\"fa fa-info-circle\"></i></p>\n",
    "1. Insert a new cell.<br/>\n",
    "2. Change the cell type to GenePattern. <br/>\n",
    "3. You should now have a new cell that looks exactly like the one shown below.\n",
    "</div>"
   ]
  },
  {
   "cell_type": "markdown",
   "metadata": {},
   "source": [
    "<b>Below is an example GenePattern authentication cell. The cell you have just created above should look identical.</b>"
   ]
  },
  {
   "cell_type": "code",
   "execution_count": 1,
   "metadata": {
    "genepattern": {
     "name": "Login",
     "server": "https://cloud.genepattern.org/gp",
     "type": "auth"
    }
   },
   "outputs": [
    {
     "data": {
      "application/vnd.jupyter.widget-view+json": {
       "model_id": "41381bf031374665afc08e4e50742218",
       "version_major": 2,
       "version_minor": 0
      },
      "text/plain": [
       "GPAuthWidget()"
      ]
     },
     "metadata": {},
     "output_type": "display_data"
    }
   ],
   "source": [
    "# Requires GenePattern Notebook: pip install genepattern-notebook\n",
    "import gp\n",
    "import genepattern\n",
    "\n",
    "# Username and password removed for security reasons.\n",
    "genepattern.display(genepattern.session.register(\"https://cloud.genepattern.org/gp\", \"\", \"\"))"
   ]
  },
  {
   "cell_type": "markdown",
   "metadata": {},
   "source": [
    "### Authentication Cells\n",
    "\n",
    "The first GenePattern cell that you have encountered is an Authentication Cell. This cell allows a user to sign into a GenePattern server. Doing this allows GenePattern to keep a user's results private, and to remember a user's settings.\n",
    "\n",
    "Authentication cells look like a login form with the additional option of selecting which GenePattern server to sign into. If the user has already authenticated, such as when usng the GenePattern Notebook Repository, the user will instead be prompted to either sign in as the current user or to cancel and sign in as a different user"
   ]
  },
  {
   "cell_type": "markdown",
   "metadata": {},
   "source": [
    "<div class=\"alert alert-info\">\n",
    "<p class=\"lead\"> Instructions <i class=\"fa fa-info-circle\"></i></p>  \n",
    "    \n",
    "- Sign into the GenePattern server by clicking `Login as [username]` in the authentication cell above.<br/>\n",
    "- Alternatively: fill in your credentials on the authentication cell above and click `Log into GenePattern`.\n",
    "</div>"
   ]
  },
  {
   "attachments": {
    "gpnb-tutorial-tools.png": {
     "image/png": "[encoded data removed]"
    }
   },
   "cell_type": "markdown",
   "metadata": {},
   "source": [
    "### Analysis Cells\n",
    "\n",
    "After signing into an Authentication Cell, users can now access GenePattern Analysis Cells. Clicking the <em><i class=\"fa-th fa\"></i> Tools</em> button in the toolbar will display the list of available GenePattern analyses. Search for a desired analysis and simply press on it to add to your current noteboook.\n",
    "\n",
    "<div>\n",
    "<img src=\"attachment:gpnb-tutorial-tools.png\" width='500px'>\n",
    "</div>\n",
    "\n",
    "Every Analysis Cell contains locations for the required parameters of each analysis. Pressing Run will upload the files as a job on the GenePattern server. The status of the job in GenePattern’s queue with be displayed below. Upon completion, the cell will show a list of outputs, which can be displayed in the browser, downloaded, or sent as input to another GenePattern analysis. Outputs are indicated by the <i class=\"fa fa-info-circle\" style=\"color: rgb(128, 128, 128);\"></i> icon. If this analysis includes visualization, the visualization will load and appear inside as well.\n",
    "\n",
    "For more information about GenePattern analysis modules, see the [**GenePattern Documentation**](https://genepattern.org/concepts#_Analysis_and_Visualization)"
   ]
  },
  {
   "cell_type": "markdown",
   "metadata": {},
   "source": [
    "<b>Below is an example on using a GenePattern analysis cell for preprocessing:</b>\n"
   ]
  },
  {
   "cell_type": "markdown",
   "metadata": {},
   "source": [
    "<div class=\"alert alert-info\">\n",
    "<p class=\"lead\"> Instructions <i class=\"fa fa-info-circle\"></i></p>\n",
    "    \n",
    "1. Highlight this cell and then click the <i><i class=\"fa-th fa\"></i> Tools</i> button in the toolbar.\n",
    "2. Scroll through the list or use the search box in the upper right to find the <i>PreprocessDataset</i> module. This module is used to preprocess data ahead of further analysis.\n",
    "    1. If you cannot find the module or see an error message stating \"You must be authenticated...,\" you likely are not yet logged into the GenePattern server. Scroll up and sign into the GenePattern authentication cell or select the \"GenePattern Login\" module in the <i><i class=\"fa-th fa\"></i> Tools</i> menu \n",
    "3. Click the listing for <i>PreprocessDataset</i>. This should insert a new analysis cell below, representing the preprocessing analysis.\n",
    "4. Drag and Drop or Copy and Paste the expression file given below into the <code>input filename</code> parameter \n",
    "    1. <a style=\"display: block;\" href=\"https://datasets.genepattern.org/data/all_aml/all_aml_test.gct\">https://datasets.genepattern.org/data/all_aml/all_aml_test.gct</a> (This file contains gene expression data comparing ALL samples with AML samples)\n",
    "    2. *Note:* Files can also be uploaded locally through the \"*Upload File...*\" button\n",
    "5. The default parameters are sufficient for this file. You can find more information about the analysis module by going to the Gear menu ( <span class=\"fa fa-cog\"></span> ) and selecting *Documentation*.\n",
    "6. Click the Run button to begin the analysis. The job status and output will display below.\n",
    "</div>"
   ]
  },
  {
   "cell_type": "code",
   "execution_count": 2,
   "metadata": {
    "genepattern": {
     "description": "Performs several preprocessing steps on a res, gct, or odf input file",
     "name": "PreprocessDataset",
     "param_values": {
      "ceiling": null,
      "floor": null,
      "input.filename": null,
      "job.cpuCount": null,
      "job.memory": null,
      "job.queue": null,
      "job.walltime": null,
      "log2.transform": null,
      "min.delta": null,
      "min.fold.change": null,
      "num.outliers.to.exclude": null,
      "number.of.columns.above.threshold": null,
      "output.file": null,
      "output.file.format": null,
      "row.normalization": null,
      "row.sampling.rate": null,
      "threshold.and.filter": null,
      "threshold.for.removing.rows": null
     },
     "show_code": false,
     "type": "task"
    },
    "scrolled": true
   },
   "outputs": [
    {
     "data": {
      "application/vnd.jupyter.widget-view+json": {
       "model_id": "c26c6f5bc7684173b34e3ac4b10223f8",
       "version_major": 2,
       "version_minor": 0
      },
      "text/plain": [
       "GPTaskWidget(lsid='urn:lsid:broad.mit.edu:cancer.software.genepattern.module.analysis:00020')"
      ]
     },
     "metadata": {},
     "output_type": "display_data"
    },
    {
     "data": {
      "application/vnd.jupyter.widget-view+json": {
       "model_id": "255eef630bcc46e3a66cf20ed6584ca7",
       "version_major": 2,
       "version_minor": 0
      },
      "text/plain": [
       "GPJobWidget(job_number=137230)"
      ]
     },
     "metadata": {},
     "output_type": "display_data"
    }
   ],
   "source": [
    "preprocessdataset_task = gp.GPTask(genepattern.session.get(0), 'urn:lsid:broad.mit.edu:cancer.software.genepattern.module.analysis:00020')\n",
    "preprocessdataset_job_spec = preprocessdataset_task.make_job_spec()\n",
    "preprocessdataset_job_spec.set_parameter(\"input.filename\", \"https://datasets.genepattern.org/data/all_aml/all_aml_test.gct\")\n",
    "preprocessdataset_job_spec.set_parameter(\"threshold.and.filter\", \"1\")\n",
    "preprocessdataset_job_spec.set_parameter(\"floor\", \"20\")\n",
    "preprocessdataset_job_spec.set_parameter(\"ceiling\", \"20000\")\n",
    "preprocessdataset_job_spec.set_parameter(\"min.fold.change\", \"3\")\n",
    "preprocessdataset_job_spec.set_parameter(\"min.delta\", \"100\")\n",
    "preprocessdataset_job_spec.set_parameter(\"num.outliers.to.exclude\", \"0\")\n",
    "preprocessdataset_job_spec.set_parameter(\"row.normalization\", \"0\")\n",
    "preprocessdataset_job_spec.set_parameter(\"row.sampling.rate\", \"1\")\n",
    "preprocessdataset_job_spec.set_parameter(\"threshold.for.removing.rows\", \"\")\n",
    "preprocessdataset_job_spec.set_parameter(\"number.of.columns.above.threshold\", \"\")\n",
    "preprocessdataset_job_spec.set_parameter(\"log2.transform\", \"0\")\n",
    "preprocessdataset_job_spec.set_parameter(\"output.file.format\", \"3\")\n",
    "preprocessdataset_job_spec.set_parameter(\"output.file\", \"<input.filename_basename>.preprocessed\")\n",
    "preprocessdataset_job_spec.set_parameter(\"job.memory\", \"2 Gb\")\n",
    "preprocessdataset_job_spec.set_parameter(\"job.queue\", \"gpbeta-default\")\n",
    "preprocessdataset_job_spec.set_parameter(\"job.cpuCount\", \"1\")\n",
    "preprocessdataset_job_spec.set_parameter(\"job.walltime\", \"02:00:00\")\n",
    "genepattern.display(preprocessdataset_task)\n",
    "\n",
    "\n",
    "job137230 = gp.GPJob(genepattern.session.get(0), 137230)\n",
    "genepattern.display(job137230)"
   ]
  },
  {
   "cell_type": "markdown",
   "metadata": {},
   "source": [
    "### Markdown Cells\n",
    "\n",
    "Markdown cells are another cell type that allows authors to take notes, document methods or embed images. Markdown cells format text using either **<a href=\"https://developer.mozilla.org/en-US/docs/Web/HTML\" target=\"_blank\">HTML</a>** or **<a href=\"https://daringfireball.net/projects/markdown/syntax\" target=\"_blank\">Markdown</a>** syntax. \n",
    "\n",
    "To insert a markdown cell, first insert a new cell, either through the *Insert > Insert Cell Below* menu or by clicking the ( <i class=\"fa-plus fa\"></i> ) button in the notebook toolbar. Once a new cell has been inserted, you can select the cell and then change the cell type to Markdown either by using the *Cell > Cell Type > Markdown* menu or by going to the dropdown menu in the notebook toolbar and selecting Markdown from the list of options.\n",
    "\n",
    "Markdown cells have **two modes**: editing mode and display mode. Double-click a rendered cell to enter editing mode and run the edited cell to enter display mode"
   ]
  },
  {
   "cell_type": "markdown",
   "metadata": {},
   "source": [
    "<div class=\"alert alert-info\">\n",
    "<p class=\"lead\"> Instructions <i class=\"fa fa-info-circle\"></i></p>\n",
    "    \n",
    "1. Insert a new cell below by clicking the ( <i class=\"fa-plus fa\"></i> ) button in the notebook toolbar\n",
    "2. Use the dropdown menu in the toolbar to change the cell type to *Markdown*\n",
    "3. Type some text and flip between Editing mode and Display mode \n",
    "</div>"
   ]
  },
  {
   "cell_type": "markdown",
   "metadata": {},
   "source": [
    "### Rich Text Editor\n",
    "\n",
    "Additionally, we provide a \"What You See is What You Get\" Rich Text Editor allowing users to format notes and documentation much in the same way that one might use Microsoft Word or Libre Office.\n",
    "\n",
    "To use the Rich Text Editor, first insert a markdown cell (see the instructions above). Press the <i class=\"fa fa-file-text-o\"></i> button to open the Rich Text Editor and the <i class=\"fa-step-forward fa\"></i> button to run the cell and render the text.\n",
    "\n",
    "<img src=\"https://notebook.genepattern.org/static/images/wysiwyg.jpg\" width=\"70%\">"
   ]
  },
  {
   "cell_type": "markdown",
   "metadata": {},
   "source": [
    "<div class=\"alert alert-info\">\n",
    "<p class=\"lead\"> Instructions <i class=\"fa fa-info-circle\"></i></p>\n",
    "<ol>\n",
    "<li>Highlight the markdown cell you created above and click the <i class=\"fa fa-file-text-o\"></i> button on the left side of the cell to activate the Rich Text Editor. If you don't see the button, make sure the cell is in editing mode by double-clicking the cell.</li>\n",
    "<li>Edit the text of the cell and then click the ( <i class=\"fa-step-forward fa\"></i> ) button to display the rendered text.</li>\n",
    "</ol>\n",
    "</div>"
   ]
  },
  {
   "cell_type": "markdown",
   "metadata": {},
   "source": [
    "For additional information on the unique formatting features of GenePattern Notebook see the [**Formatting Tutorial Notebook**](https://notebook.genepattern.org/services/sharing/notebooks/363/preview/)"
   ]
  },
  {
   "cell_type": "markdown",
   "metadata": {},
   "source": [
    "## Programmatic Features\n",
    "\n",
    "In addition to the basic and publishing features intended for use by both non-programming and programming users alike, the GenePattern Notebook environment also provides a variety of features intended primarily for use by coders."
   ]
  },
  {
   "cell_type": "markdown",
   "metadata": {},
   "source": [
    "#### UI Builder\n",
    "- The UI Builder is a way to display any Python function or method call as an interactive widget. This will render the parameters of the function as a web form. [**Learn More**](https://gpnotebook-website-docs.readthedocs.io/en/latest/programmatic/#ui-builder)\n",
    "\n",
    "#### Python Variable Input\n",
    "   - As part of the seamless integration between Python and GenePattern, Python variables may be directly used as input in GenePattern Analysis Cells. [**Learn More**](https://gpnotebook-website-docs.readthedocs.io/en/latest/programmatic/#5-python-variable-input)\n",
    "\n",
    "#### Send to Dataframe\n",
    "- The GenePattern Python Library also provides functionality for common GenePattern file formats, allowing them seamlessly integrate with **<a href=\"http://pandas.pydata.org/\">Pandas</a>**, a popular Python data analysis library. [**Learn More**](https://gpnotebook-website-docs.readthedocs.io/en/latest/programmatic/#4-send-to-dataframe)\n",
    "\n",
    "#### Send to Code\n",
    "   - The GenePattern Python Library seamlessly integrates with GenePattern cells. Code examples of how to reference GenePattern jobs or GenePattern result files are available in GenePattern Job Cells by clicking a job result and selecting “Send to Code” in the menu. [**Learn More**](https://gpnotebook-website-docs.readthedocs.io/en/latest/programmatic/#3-send-to-code)\n",
    "\n",
    "For more information see the [**Programmatic Features Tutorial**](https://notebook.genepattern.org/services/sharing/notebooks/362/preview/) or [**Programmatic Features Documentation**](https://gpnotebook-website-docs.readthedocs.io/en/latest/programmatic/)"
   ]
  },
  {
   "cell_type": "markdown",
   "metadata": {},
   "source": [
    "## Additional Resources"
   ]
  },
  {
   "cell_type": "markdown",
   "metadata": {},
   "source": [
    "### Other Tutorial Notebooks\n",
    "- [**Programmatic Features**](https://notebook.genepattern.org/services/sharing/notebooks/362/preview/)\n",
    "- [**GenePattern Python Tutorial**](https://notebook.genepattern.org/services/sharing/notebooks/19/preview/)\n",
    "- [**GenePattern and Pandas**](https://notebook.genepattern.org/services/sharing/notebooks/67/preview/)\n",
    "- [**UI Builder Tutorial**](https://notebook.genepattern.org/services/sharing/notebooks/294/preview/) \n",
    "- [**Introduction to Text and Document Formatting**](https://notebook.genepattern.org/services/sharing/notebooks/363/preview/)\n",
    "\n",
    "### Ecosystem\n",
    "- [**GenePattern Notebook Website**](https://notebook.genepattern.org)\n",
    "- [**GenePattern Notebook Documentation**](https://gpnotebook-website-docs.readthedocs.io/en/latest/)\n",
    "- [**GenePattern Website**](http://genepattern.org)\n",
    "- [**Jupyter Project**](http://jupyter.org/)\n",
    "- [**GenePattern Notebook GitHub Repository**](https://github.com/genepattern/genepattern-notebook)\n",
    "- [**GenePattern Module Archive (GParc)**](http://www.gparc.org/)"
   ]
  },
  {
   "cell_type": "code",
   "execution_count": null,
   "metadata": {},
   "outputs": [],
   "source": []
  }
 ],
 "metadata": {
  "anaconda-cloud": {},
  "genepattern": {
   "repository_url": "http://notebooks.genepattern.org/services/sharing/notebooks/361/"
  },
  "kernelspec": {
   "display_name": "Python 3.6",
   "language": "python",
   "name": "python3.6"
  },
  "language_info": {
   "codemirror_mode": {
    "name": "ipython",
    "version": 3
   },
   "file_extension": ".py",
   "mimetype": "text/x-python",
   "name": "python",
   "nbconvert_exporter": "python",
   "pygments_lexer": "ipython3",
   "version": "3.6.13"
  },
  "toc": {
   "base_numbering": 1,
   "nav_menu": {
    "height": "609px",
    "width": "392px"
   },
   "number_sections": false,
   "sideBar": true,
   "skip_h1_title": true,
   "title_cell": "Table of Contents",
   "title_sidebar": "Contents",
   "toc_cell": false,
   "toc_position": {
    "height": "calc(100% - 180px)",
    "left": "10px",
    "top": "150px",
    "width": "296.438px"
   },
   "toc_section_display": true,
   "toc_window_display": false
  },
  "widgets": {
   "state": {
    "305366c16ab14aae9886f40da7231b11": {
     "views": [
      {
       "cell_index": 20
      }
     ]
    },
    "6427149a01a440b79e7b790c9c94ae03": {
     "views": [
      {
       "cell_index": 15
      }
     ]
    },
    "d40ab328d5ff44c09440b9dcbf3c60d2": {
     "views": [
      {
       "cell_index": 20
      }
     ]
    },
    "e816afbceda54d1398c1e0a1bb1543f9": {
     "views": [
      {
       "cell_index": 15
      }
     ]
    }
   },
   "version": "1.2.0"
  }
 },
 "nbformat": 4,
 "nbformat_minor": 1
}
